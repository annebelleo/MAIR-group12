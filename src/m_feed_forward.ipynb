{
 "cells": [
  {
   "cell_type": "code",
   "execution_count": 11,
   "metadata": {},
   "outputs": [],
   "source": [
    "import data_preparation as dp\n",
    "import metrics\n",
    "import tensorflow as tf\n",
    "import pandas as pd\n",
    "from keras.preprocessing.text import Tokenizer\n",
    "import sklearn\n",
    "from sklearn.model_selection import train_test_split\n",
    "import matplotlib.pyplot as plt\n",
    "import numpy as np"
   ]
  },
  {
   "cell_type": "code",
   "execution_count": 2,
   "metadata": {},
   "outputs": [
    {
     "data": {
      "text/html": [
       "<div>\n",
       "<style scoped>\n",
       "    .dataframe tbody tr th:only-of-type {\n",
       "        vertical-align: middle;\n",
       "    }\n",
       "\n",
       "    .dataframe tbody tr th {\n",
       "        vertical-align: top;\n",
       "    }\n",
       "\n",
       "    .dataframe thead th {\n",
       "        text-align: right;\n",
       "    }\n",
       "</style>\n",
       "<table border=\"1\" class=\"dataframe\">\n",
       "  <thead>\n",
       "    <tr style=\"text-align: right;\">\n",
       "      <th></th>\n",
       "      <th>class</th>\n",
       "      <th>lines</th>\n",
       "      <th>tokenized</th>\n",
       "    </tr>\n",
       "  </thead>\n",
       "  <tbody>\n",
       "    <tr>\n",
       "      <th>0</th>\n",
       "      <td>6</td>\n",
       "      <td>im looking for a moderately priced restaurant ...</td>\n",
       "      <td>[im, looking, for, a, moderately, priced, rest...</td>\n",
       "    </tr>\n",
       "    <tr>\n",
       "      <th>1</th>\n",
       "      <td>6</td>\n",
       "      <td>any part of town</td>\n",
       "      <td>[any, part, of, town]</td>\n",
       "    </tr>\n",
       "    <tr>\n",
       "      <th>2</th>\n",
       "      <td>6</td>\n",
       "      <td>bistro food</td>\n",
       "      <td>[bistro, food]</td>\n",
       "    </tr>\n",
       "    <tr>\n",
       "      <th>3</th>\n",
       "      <td>3</td>\n",
       "      <td>is there a moderately priced restaurant that s...</td>\n",
       "      <td>[is, there, a, moderately, priced, restaurant,...</td>\n",
       "    </tr>\n",
       "    <tr>\n",
       "      <th>4</th>\n",
       "      <td>1</td>\n",
       "      <td>yes</td>\n",
       "      <td>[yes]</td>\n",
       "    </tr>\n",
       "    <tr>\n",
       "      <th>...</th>\n",
       "      <td>...</td>\n",
       "      <td>...</td>\n",
       "      <td>...</td>\n",
       "    </tr>\n",
       "    <tr>\n",
       "      <th>25496</th>\n",
       "      <td>12</td>\n",
       "      <td>what is the price range</td>\n",
       "      <td>[what, is, the, price, range]</td>\n",
       "    </tr>\n",
       "    <tr>\n",
       "      <th>25497</th>\n",
       "      <td>14</td>\n",
       "      <td>thank you good bye</td>\n",
       "      <td>[thank, you, good, bye]</td>\n",
       "    </tr>\n",
       "    <tr>\n",
       "      <th>25498</th>\n",
       "      <td>6</td>\n",
       "      <td>im looking for african food</td>\n",
       "      <td>[im, looking, for, african, food]</td>\n",
       "    </tr>\n",
       "    <tr>\n",
       "      <th>25499</th>\n",
       "      <td>12</td>\n",
       "      <td>whats the address and phone number</td>\n",
       "      <td>[whats, the, address, and, phone, number]</td>\n",
       "    </tr>\n",
       "    <tr>\n",
       "      <th>25500</th>\n",
       "      <td>14</td>\n",
       "      <td>thank you good bye</td>\n",
       "      <td>[thank, you, good, bye]</td>\n",
       "    </tr>\n",
       "  </tbody>\n",
       "</table>\n",
       "<p>25501 rows × 3 columns</p>\n",
       "</div>"
      ],
      "text/plain": [
       "       class                                              lines  \\\n",
       "0          6  im looking for a moderately priced restaurant ...   \n",
       "1          6                                   any part of town   \n",
       "2          6                                        bistro food   \n",
       "3          3  is there a moderately priced restaurant that s...   \n",
       "4          1                                                yes   \n",
       "...      ...                                                ...   \n",
       "25496     12                            what is the price range   \n",
       "25497     14                                 thank you good bye   \n",
       "25498      6                        im looking for african food   \n",
       "25499     12                 whats the address and phone number   \n",
       "25500     14                                 thank you good bye   \n",
       "\n",
       "                                               tokenized  \n",
       "0      [im, looking, for, a, moderately, priced, rest...  \n",
       "1                                  [any, part, of, town]  \n",
       "2                                         [bistro, food]  \n",
       "3      [is, there, a, moderately, priced, restaurant,...  \n",
       "4                                                  [yes]  \n",
       "...                                                  ...  \n",
       "25496                      [what, is, the, price, range]  \n",
       "25497                            [thank, you, good, bye]  \n",
       "25498                  [im, looking, for, african, food]  \n",
       "25499          [whats, the, address, and, phone, number]  \n",
       "25500                            [thank, you, good, bye]  \n",
       "\n",
       "[25501 rows x 3 columns]"
      ]
     },
     "execution_count": 2,
     "metadata": {},
     "output_type": "execute_result"
    }
   ],
   "source": [
    "df = dp.get_data(path_dialog_acts= \"../res/dialog_acts.dat\")\n",
    "df"
   ]
  },
  {
   "cell_type": "code",
   "execution_count": 3,
   "metadata": {},
   "outputs": [
    {
     "data": {
      "text/plain": [
       "(25501, 15)"
      ]
     },
     "execution_count": 3,
     "metadata": {},
     "output_type": "execute_result"
    }
   ],
   "source": [
    "# categories y:\n",
    "y = tf.keras.utils.to_categorical(\n",
    "    df[\"class\"].to_numpy().reshape(25501), num_classes=15, dtype= \"int64\"\n",
    ")\n",
    "y.shape"
   ]
  },
  {
   "cell_type": "code",
   "execution_count": 4,
   "metadata": {},
   "outputs": [
    {
     "data": {
      "text/plain": [
       "(25501, 785)"
      ]
     },
     "execution_count": 4,
     "metadata": {},
     "output_type": "execute_result"
    }
   ],
   "source": [
    "# create the tokenizer for x:\n",
    "t = Tokenizer()\n",
    "# fit the tokenizer on the documents\n",
    "t.fit_on_texts(df[\"lines\"])\n",
    "# integer encode documents\n",
    "x = t.texts_to_matrix(df[\"lines\"], mode='count')\n",
    "x.shape"
   ]
  },
  {
   "cell_type": "code",
   "execution_count": 5,
   "metadata": {},
   "outputs": [],
   "source": [
    "# split in test and training data:\n",
    "x_train, x_test, y_train, y_test = train_test_split(x, y, test_size=0.3, random_state=42)"
   ]
  },
  {
   "cell_type": "code",
   "execution_count": 6,
   "metadata": {},
   "outputs": [
    {
     "name": "stderr",
     "output_type": "stream",
     "text": [
      "2023-09-13 11:43:23.996564: I tensorflow/core/common_runtime/process_util.cc:146] Creating new thread pool with default inter op setting: 2. Tune using inter_op_parallelism_threads for best performance.\n"
     ]
    }
   ],
   "source": [
    "model = tf.keras.Sequential([\n",
    "    tf.keras.layers.Flatten(input_shape=(785,)),\n",
    "    tf.keras.layers.Dense(256, activation='relu'),\n",
    "    tf.keras.layers.Dense(128, activation='relu'),\n",
    "    tf.keras.layers.Dense(15, activation=\"softmax\")\n",
    "])\n",
    "model.compile(optimizer='adam',\n",
    "              loss='categorical_crossentropy',\n",
    "              metrics=['accuracy'])"
   ]
  },
  {
   "cell_type": "code",
   "execution_count": 7,
   "metadata": {},
   "outputs": [
    {
     "name": "stdout",
     "output_type": "stream",
     "text": [
      "Epoch 1/3\n",
      "112/112 [==============================] - 6s 42ms/step - loss: 0.8301 - accuracy: 0.8353 - val_loss: 0.1824 - val_accuracy: 0.9583\n",
      "Epoch 2/3\n",
      "112/112 [==============================] - 5s 41ms/step - loss: 0.1381 - accuracy: 0.9658 - val_loss: 0.0949 - val_accuracy: 0.9790\n",
      "Epoch 3/3\n",
      "112/112 [==============================] - 4s 34ms/step - loss: 0.0734 - accuracy: 0.9810 - val_loss: 0.0757 - val_accuracy: 0.9807\n"
     ]
    }
   ],
   "source": [
    "history = model.fit(x_train, y_train, epochs=3, validation_split=0.2, batch_size=128)"
   ]
  },
  {
   "cell_type": "code",
   "execution_count": 8,
   "metadata": {},
   "outputs": [
    {
     "name": "stdout",
     "output_type": "stream",
     "text": [
      "240/240 [==============================] - 4s 16ms/step - loss: 0.0718 - accuracy: 0.9821\n"
     ]
    },
    {
     "data": {
      "text/plain": [
       "[0.07180510461330414, 0.982093870639801]"
      ]
     },
     "execution_count": 8,
     "metadata": {},
     "output_type": "execute_result"
    }
   ],
   "source": [
    "model.evaluate(x_test, y_test)"
   ]
  },
  {
   "cell_type": "code",
   "execution_count": 9,
   "metadata": {},
   "outputs": [
    {
     "name": "stdout",
     "output_type": "stream",
     "text": [
      "240/240 [==============================] - 4s 16ms/step\n",
      "[0 0 0 0 0 0 1 0 0 0 0 0 0 0 0]\n"
     ]
    },
    {
     "data": {
      "text/plain": [
       "6"
      ]
     },
     "execution_count": 9,
     "metadata": {},
     "output_type": "execute_result"
    }
   ],
   "source": [
    "test = model.predict(x_test)\n",
    "print(y_test[0])\n",
    "test[0].argmax()\n"
   ]
  },
  {
   "cell_type": "code",
   "execution_count": null,
   "metadata": {},
   "outputs": [],
   "source": [
    "\n"
   ]
  },
  {
   "cell_type": "code",
   "execution_count": 28,
   "metadata": {},
   "outputs": [
    {
     "name": "stdout",
     "output_type": "stream",
     "text": [
      "0.0007842112142203634\n",
      "[0.         0.99708455 0.95384615 0.7962963  0.         0.90909091\n",
      " 0.98404429 0.99230769 0.92887029 1.         0.95470383 0.\n",
      " 0.9964521  0.         0.99679829]\n",
      "[0.         0.97435897 0.92537313 0.89583333 0.         0.76923077\n",
      " 0.98532768 0.98473282 0.95483871 0.8        0.97857143 0.\n",
      " 0.99594732 0.         0.99786325]\n"
     ]
    },
    {
     "name": "stderr",
     "output_type": "stream",
     "text": [
      "/home/robin/anaconda3/envs/uu_mair_chat/lib/python3.11/site-packages/sklearn/metrics/_classification.py:1469: UndefinedMetricWarning: Precision is ill-defined and being set to 0.0 in labels with no predicted samples. Use `zero_division` parameter to control this behavior.\n",
      "  _warn_prf(average, modifier, msg_start, len(result))\n"
     ]
    }
   ],
   "source": [
    "import importlib\n",
    "importlib.reload(metrics)\n",
    "y_real = np.argmax(y_test, axis=1)\n",
    "y_result = np.argmax(test, axis=1)\n",
    "print(metrics.recall(y_result,y_real, 0 ))\n",
    "r= sklearn.metrics.precision_score(y_real, y_result, average= None)\n",
    "print(r)\n",
    "r = sklearn.metrics.recall_score(y_real, y_result, average= None)\n",
    "print(r)\n",
    "#print(metrics.precision(y_result,y_real ))"
   ]
  },
  {
   "cell_type": "code",
   "execution_count": null,
   "metadata": {},
   "outputs": [
    {
     "data": {
      "image/png": "[encoded data removed]",
      "text/plain": [
       "<Figure size 640x480 with 1 Axes>"
      ]
     },
     "metadata": {},
     "output_type": "display_data"
    }
   ],
   "source": [
    "# Plotting Accuracy\n",
    "plt.plot(history.history['accuracy'])\n",
    "plt.plot(history.history['val_accuracy'])\n",
    "plt.title('model accuracy')\n",
    "plt.ylabel('accuracy')\n",
    "plt.xlabel('epoch')\n",
    "plt.legend(['accuracy', 'val_accuracy'], loc='upper left')\n",
    "plt.show()\n"
   ]
  }
 ],
 "metadata": {
  "kernelspec": {
   "display_name": "uu_mair_chat",
   "language": "python",
   "name": "python3"
  },
  "language_info": {
   "codemirror_mode": {
    "name": "ipython",
    "version": 3
   },
   "file_extension": ".py",
   "mimetype": "text/x-python",
   "name": "python",
   "nbconvert_exporter": "python",
   "pygments_lexer": "ipython3",
   "version": "3.11.5"
  },
  "orig_nbformat": 4
 },
 "nbformat": 4,
 "nbformat_minor": 2
}
