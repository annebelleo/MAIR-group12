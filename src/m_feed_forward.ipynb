{
 "cells": [
  {
   "cell_type": "code",
   "execution_count": 1,
   "metadata": {},
   "outputs": [
    {
     "name": "stderr",
     "output_type": "stream",
     "text": [
      "[nltk_data] Downloading package punkt to /home/robin/nltk_data...\n",
      "[nltk_data]   Package punkt is already up-to-date!\n",
      "2023-09-12 19:10:42.945266: I tensorflow/core/platform/cpu_feature_guard.cc:182] This TensorFlow binary is optimized to use available CPU instructions in performance-critical operations.\n",
      "To enable the following instructions: SSE4.1 SSE4.2 AVX AVX2 FMA, in other operations, rebuild TensorFlow with the appropriate compiler flags.\n"
     ]
    }
   ],
   "source": [
    "import data_preparation as dp\n",
    "import tensorflow as tf\n",
    "import pandas as pd\n",
    "from keras.preprocessing.text import Tokenizer\n",
    "from sklearn.model_selection import train_test_split\n",
    "import matplotlib.pyplot as plt"
   ]
  },
  {
   "cell_type": "code",
   "execution_count": 2,
   "metadata": {},
   "outputs": [
    {
     "data": {
      "text/html": [
       "<div>\n",
       "<style scoped>\n",
       "    .dataframe tbody tr th:only-of-type {\n",
       "        vertical-align: middle;\n",
       "    }\n",
       "\n",
       "    .dataframe tbody tr th {\n",
       "        vertical-align: top;\n",
       "    }\n",
       "\n",
       "    .dataframe thead th {\n",
       "        text-align: right;\n",
       "    }\n",
       "</style>\n",
       "<table border=\"1\" class=\"dataframe\">\n",
       "  <thead>\n",
       "    <tr style=\"text-align: right;\">\n",
       "      <th></th>\n",
       "      <th>class</th>\n",
       "      <th>lines</th>\n",
       "      <th>tokenized</th>\n",
       "    </tr>\n",
       "  </thead>\n",
       "  <tbody>\n",
       "    <tr>\n",
       "      <th>0</th>\n",
       "      <td>6</td>\n",
       "      <td>im looking for a moderately priced restaurant ...</td>\n",
       "      <td>[im, looking, for, a, moderately, priced, rest...</td>\n",
       "    </tr>\n",
       "    <tr>\n",
       "      <th>1</th>\n",
       "      <td>6</td>\n",
       "      <td>any part of town</td>\n",
       "      <td>[any, part, of, town]</td>\n",
       "    </tr>\n",
       "    <tr>\n",
       "      <th>2</th>\n",
       "      <td>6</td>\n",
       "      <td>bistro food</td>\n",
       "      <td>[bistro, food]</td>\n",
       "    </tr>\n",
       "    <tr>\n",
       "      <th>3</th>\n",
       "      <td>3</td>\n",
       "      <td>is there a moderately priced restaurant that s...</td>\n",
       "      <td>[is, there, a, moderately, priced, restaurant,...</td>\n",
       "    </tr>\n",
       "    <tr>\n",
       "      <th>4</th>\n",
       "      <td>1</td>\n",
       "      <td>yes</td>\n",
       "      <td>[yes]</td>\n",
       "    </tr>\n",
       "    <tr>\n",
       "      <th>...</th>\n",
       "      <td>...</td>\n",
       "      <td>...</td>\n",
       "      <td>...</td>\n",
       "    </tr>\n",
       "    <tr>\n",
       "      <th>25496</th>\n",
       "      <td>12</td>\n",
       "      <td>what is the price range</td>\n",
       "      <td>[what, is, the, price, range]</td>\n",
       "    </tr>\n",
       "    <tr>\n",
       "      <th>25497</th>\n",
       "      <td>14</td>\n",
       "      <td>thank you good bye</td>\n",
       "      <td>[thank, you, good, bye]</td>\n",
       "    </tr>\n",
       "    <tr>\n",
       "      <th>25498</th>\n",
       "      <td>6</td>\n",
       "      <td>im looking for african food</td>\n",
       "      <td>[im, looking, for, african, food]</td>\n",
       "    </tr>\n",
       "    <tr>\n",
       "      <th>25499</th>\n",
       "      <td>12</td>\n",
       "      <td>whats the address and phone number</td>\n",
       "      <td>[whats, the, address, and, phone, number]</td>\n",
       "    </tr>\n",
       "    <tr>\n",
       "      <th>25500</th>\n",
       "      <td>14</td>\n",
       "      <td>thank you good bye</td>\n",
       "      <td>[thank, you, good, bye]</td>\n",
       "    </tr>\n",
       "  </tbody>\n",
       "</table>\n",
       "<p>25501 rows × 3 columns</p>\n",
       "</div>"
      ],
      "text/plain": [
       "       class                                              lines  \\\n",
       "0          6  im looking for a moderately priced restaurant ...   \n",
       "1          6                                   any part of town   \n",
       "2          6                                        bistro food   \n",
       "3          3  is there a moderately priced restaurant that s...   \n",
       "4          1                                                yes   \n",
       "...      ...                                                ...   \n",
       "25496     12                            what is the price range   \n",
       "25497     14                                 thank you good bye   \n",
       "25498      6                        im looking for african food   \n",
       "25499     12                 whats the address and phone number   \n",
       "25500     14                                 thank you good bye   \n",
       "\n",
       "                                               tokenized  \n",
       "0      [im, looking, for, a, moderately, priced, rest...  \n",
       "1                                  [any, part, of, town]  \n",
       "2                                         [bistro, food]  \n",
       "3      [is, there, a, moderately, priced, restaurant,...  \n",
       "4                                                  [yes]  \n",
       "...                                                  ...  \n",
       "25496                      [what, is, the, price, range]  \n",
       "25497                            [thank, you, good, bye]  \n",
       "25498                  [im, looking, for, african, food]  \n",
       "25499          [whats, the, address, and, phone, number]  \n",
       "25500                            [thank, you, good, bye]  \n",
       "\n",
       "[25501 rows x 3 columns]"
      ]
     },
     "execution_count": 2,
     "metadata": {},
     "output_type": "execute_result"
    }
   ],
   "source": [
    "df = dp.get_data(path_dialog_acts= \"../res/dialog_acts.dat\")\n",
    "df"
   ]
  },
  {
   "cell_type": "code",
   "execution_count": 3,
   "metadata": {},
   "outputs": [
    {
     "data": {
      "text/plain": [
       "(25501, 15)"
      ]
     },
     "execution_count": 3,
     "metadata": {},
     "output_type": "execute_result"
    }
   ],
   "source": [
    "# categories y:\n",
    "y = tf.keras.utils.to_categorical(\n",
    "    df[\"class\"].to_numpy().reshape(25501), num_classes=15, dtype= \"int64\"\n",
    ")\n",
    "y.shape"
   ]
  },
  {
   "cell_type": "code",
   "execution_count": 4,
   "metadata": {},
   "outputs": [
    {
     "data": {
      "text/plain": [
       "(25501, 785)"
      ]
     },
     "execution_count": 4,
     "metadata": {},
     "output_type": "execute_result"
    }
   ],
   "source": [
    "# create the tokenizer for x:\n",
    "t = Tokenizer()\n",
    "# fit the tokenizer on the documents\n",
    "t.fit_on_texts(df[\"lines\"])\n",
    "# integer encode documents\n",
    "x = t.texts_to_matrix(df[\"lines\"], mode='count')\n",
    "x.shape"
   ]
  },
  {
   "cell_type": "code",
   "execution_count": 5,
   "metadata": {},
   "outputs": [],
   "source": [
    "# split in test and training data:\n",
    "x_train, x_test, y_train, y_test = train_test_split(x, y, test_size=0.3, random_state=42)"
   ]
  },
  {
   "cell_type": "code",
   "execution_count": 6,
   "metadata": {},
   "outputs": [
    {
     "name": "stderr",
     "output_type": "stream",
     "text": [
      "2023-09-12 19:10:48.383137: I tensorflow/core/common_runtime/process_util.cc:146] Creating new thread pool with default inter op setting: 2. Tune using inter_op_parallelism_threads for best performance.\n"
     ]
    }
   ],
   "source": [
    "model = tf.keras.Sequential([\n",
    "    tf.keras.layers.Flatten(input_shape=(785,)),\n",
    "    tf.keras.layers.Dense(256, activation='relu'),\n",
    "    tf.keras.layers.Dense(128, activation='relu'),\n",
    "    tf.keras.layers.Dense(15, activation=\"softmax\")\n",
    "])\n",
    "model.compile(optimizer='adam',\n",
    "              loss='categorical_crossentropy',\n",
    "              metrics=['accuracy'])"
   ]
  },
  {
   "cell_type": "code",
   "execution_count": 7,
   "metadata": {},
   "outputs": [
    {
     "name": "stdout",
     "output_type": "stream",
     "text": [
      "Epoch 1/10\n",
      "112/112 [==============================] - 7s 51ms/step - loss: 0.8598 - accuracy: 0.8297 - val_loss: 0.1852 - val_accuracy: 0.9563\n",
      "Epoch 2/10\n",
      "112/112 [==============================] - 3s 28ms/step - loss: 0.1360 - accuracy: 0.9671 - val_loss: 0.0858 - val_accuracy: 0.9790\n",
      "Epoch 3/10\n",
      "112/112 [==============================] - 3s 28ms/step - loss: 0.0693 - accuracy: 0.9824 - val_loss: 0.0660 - val_accuracy: 0.9832\n",
      "Epoch 4/10\n",
      "112/112 [==============================] - 2s 16ms/step - loss: 0.0451 - accuracy: 0.9882 - val_loss: 0.0622 - val_accuracy: 0.9832\n",
      "Epoch 5/10\n",
      "112/112 [==============================] - 3s 23ms/step - loss: 0.0299 - accuracy: 0.9923 - val_loss: 0.0622 - val_accuracy: 0.9824\n",
      "Epoch 6/10\n",
      "112/112 [==============================] - 4s 33ms/step - loss: 0.0218 - accuracy: 0.9944 - val_loss: 0.0574 - val_accuracy: 0.9860\n",
      "Epoch 7/10\n",
      "112/112 [==============================] - 2s 15ms/step - loss: 0.0163 - accuracy: 0.9954 - val_loss: 0.0621 - val_accuracy: 0.9832\n",
      "Epoch 8/10\n",
      "112/112 [==============================] - 3s 27ms/step - loss: 0.0122 - accuracy: 0.9971 - val_loss: 0.0587 - val_accuracy: 0.9857\n",
      "Epoch 9/10\n",
      "112/112 [==============================] - 5s 48ms/step - loss: 0.0097 - accuracy: 0.9984 - val_loss: 0.0697 - val_accuracy: 0.9838\n",
      "Epoch 10/10\n",
      "112/112 [==============================] - 4s 40ms/step - loss: 0.0085 - accuracy: 0.9982 - val_loss: 0.0654 - val_accuracy: 0.9846\n"
     ]
    }
   ],
   "source": [
    "history = model.fit(x_train, y_train, epochs=10, validation_split=0.2, batch_size=128)"
   ]
  },
  {
   "cell_type": "code",
   "execution_count": 13,
   "metadata": {},
   "outputs": [
    {
     "name": "stdout",
     "output_type": "stream",
     "text": [
      "240/240 [==============================] - 3s 14ms/step\n"
     ]
    }
   ],
   "source": [
    "test = model.predict(x_test)\n"
   ]
  },
  {
   "cell_type": "code",
   "execution_count": 19,
   "metadata": {},
   "outputs": [
    {
     "name": "stdout",
     "output_type": "stream",
     "text": [
      "[0 0 0 0 0 0 1 0 0 0 0 0 0 0 0]\n"
     ]
    },
    {
     "data": {
      "text/plain": [
       "6"
      ]
     },
     "execution_count": 19,
     "metadata": {},
     "output_type": "execute_result"
    }
   ],
   "source": [
    "print(y_test[0])\n",
    "test[0].argmax()"
   ]
  },
  {
   "cell_type": "markdown",
   "metadata": {},
   "source": []
  },
  {
   "cell_type": "code",
   "execution_count": 11,
   "metadata": {},
   "outputs": [
    {
     "data": {
      "image/png": "[encoded data removed]",
      "text/plain": [
       "<Figure size 640x480 with 1 Axes>"
      ]
     },
     "metadata": {},
     "output_type": "display_data"
    }
   ],
   "source": [
    "# Plotting Accuracy\n",
    "plt.plot(history.history['accuracy'])\n",
    "plt.plot(history.history['val_accuracy'])\n",
    "plt.title('model accuracy')\n",
    "plt.ylabel('accuracy')\n",
    "plt.xlabel('epoch')\n",
    "plt.legend(['accuracy', 'val_accuracy'], loc='upper left')\n",
    "plt.show()\n"
   ]
  }
 ],
 "metadata": {
  "kernelspec": {
   "display_name": "uu_mair_chat",
   "language": "python",
   "name": "python3"
  },
  "language_info": {
   "codemirror_mode": {
    "name": "ipython",
    "version": 3
   },
   "file_extension": ".py",
   "mimetype": "text/x-python",
   "name": "python",
   "nbconvert_exporter": "python",
   "pygments_lexer": "ipython3",
   "version": "3.11.5"
  },
  "orig_nbformat": 4
 },
 "nbformat": 4,
 "nbformat_minor": 2
}
