{
 "cells": [
  {
   "cell_type": "code",
   "execution_count": 30,
   "metadata": {},
   "outputs": [],
   "source": [
    "# Import Libaries\n",
    "import numpy as np\n",
    "import pandas as pd\n",
    "import sklearn\n",
    "from sklearn.model_selection import train_test_split\n",
    "from sklearn.metrics import classification_report\n",
    "from random import seed\n",
    "# Import Packages\n",
    "import majority_classification\n",
    "#import rule_based\n",
    "#import m_decision_tree # fix deprecated error\n",
    "#import m_feed_forward # fix deprecated error\n",
    "import data_preparation\n",
    "import visualization\n",
    "import model_eval\n",
    "import m_decision_tree\n",
    "import m_feed_forward"
   ]
  },
  {
   "cell_type": "code",
   "execution_count": 20,
   "metadata": {},
   "outputs": [],
   "source": [
    "\n",
    "dialogDF = data_preparation.get_data(path_dialog_acts=\"../res/dialog_acts.dat\", drop_duplicates=False)\n",
    "dialogTrain, dialogTest = train_test_split(dialogDF, test_size=0.15, random_state=42)\n",
    "\n",
    "dialogDF_nodup = data_preparation.get_data(path_dialog_acts=\"../res/dialog_acts.dat\", drop_duplicates=True)\n",
    "dialogTrain_nodup, dialogTest_nodup = train_test_split(dialogDF_nodup, test_size=0.15, random_state=42)\n",
    "\n",
    "### Perform Classification\n",
    "\n",
    "model_results = {}\n",
    "model_results_nodup = {}\n",
    "\n",
    "\n"
   ]
  },
  {
   "cell_type": "code",
   "execution_count": 17,
   "metadata": {},
   "outputs": [
    {
     "data": {
      "text/html": [
       "<div>\n",
       "<style scoped>\n",
       "    .dataframe tbody tr th:only-of-type {\n",
       "        vertical-align: middle;\n",
       "    }\n",
       "\n",
       "    .dataframe tbody tr th {\n",
       "        vertical-align: top;\n",
       "    }\n",
       "\n",
       "    .dataframe thead th {\n",
       "        text-align: right;\n",
       "    }\n",
       "</style>\n",
       "<table border=\"1\" class=\"dataframe\">\n",
       "  <thead>\n",
       "    <tr style=\"text-align: right;\">\n",
       "      <th></th>\n",
       "      <th>label</th>\n",
       "      <th>sentence</th>\n",
       "    </tr>\n",
       "  </thead>\n",
       "  <tbody>\n",
       "    <tr>\n",
       "      <th>0</th>\n",
       "      <td>6</td>\n",
       "      <td>im looking for a moderately priced restaurant ...</td>\n",
       "    </tr>\n",
       "    <tr>\n",
       "      <th>1</th>\n",
       "      <td>6</td>\n",
       "      <td>any part of town</td>\n",
       "    </tr>\n",
       "    <tr>\n",
       "      <th>2</th>\n",
       "      <td>6</td>\n",
       "      <td>bistro food</td>\n",
       "    </tr>\n",
       "    <tr>\n",
       "      <th>3</th>\n",
       "      <td>3</td>\n",
       "      <td>is there a moderately priced restaurant that s...</td>\n",
       "    </tr>\n",
       "    <tr>\n",
       "      <th>4</th>\n",
       "      <td>1</td>\n",
       "      <td>yes</td>\n",
       "    </tr>\n",
       "    <tr>\n",
       "      <th>...</th>\n",
       "      <td>...</td>\n",
       "      <td>...</td>\n",
       "    </tr>\n",
       "    <tr>\n",
       "      <th>25496</th>\n",
       "      <td>12</td>\n",
       "      <td>what is the price range</td>\n",
       "    </tr>\n",
       "    <tr>\n",
       "      <th>25497</th>\n",
       "      <td>14</td>\n",
       "      <td>thank you good bye</td>\n",
       "    </tr>\n",
       "    <tr>\n",
       "      <th>25498</th>\n",
       "      <td>6</td>\n",
       "      <td>im looking for african food</td>\n",
       "    </tr>\n",
       "    <tr>\n",
       "      <th>25499</th>\n",
       "      <td>12</td>\n",
       "      <td>whats the address and phone number</td>\n",
       "    </tr>\n",
       "    <tr>\n",
       "      <th>25500</th>\n",
       "      <td>14</td>\n",
       "      <td>thank you good bye</td>\n",
       "    </tr>\n",
       "  </tbody>\n",
       "</table>\n",
       "<p>25501 rows × 2 columns</p>\n",
       "</div>"
      ],
      "text/plain": [
       "       label                                           sentence\n",
       "0          6  im looking for a moderately priced restaurant ...\n",
       "1          6                                   any part of town\n",
       "2          6                                        bistro food\n",
       "3          3  is there a moderately priced restaurant that s...\n",
       "4          1                                                yes\n",
       "...      ...                                                ...\n",
       "25496     12                            what is the price range\n",
       "25497     14                                 thank you good bye\n",
       "25498      6                        im looking for african food\n",
       "25499     12                 whats the address and phone number\n",
       "25500     14                                 thank you good bye\n",
       "\n",
       "[25501 rows x 2 columns]"
      ]
     },
     "execution_count": 17,
     "metadata": {},
     "output_type": "execute_result"
    }
   ],
   "source": [
    "dialogDF"
   ]
  },
  {
   "cell_type": "code",
   "execution_count": 21,
   "metadata": {},
   "outputs": [],
   "source": [
    "# Baseline: majority classification\n",
    "modelMajorityClassif = majority_classification.Baseline_majority()\n",
    "modelMajorityClassif.model_train(dialogTrain['label'])\n",
    "predsMajorityClassif = modelMajorityClassif.model_predict(dialogTest['label'])\n",
    "resultsMajorityClassif = model_eval.model_evaluate(predicted_labels = predsMajorityClassif, \n",
    "                                        test_labels = dialogTest['label'])\n",
    "\n",
    "model_results['majority_classif'] = resultsMajorityClassif\n",
    "\n",
    "# Baseline: majority classification no duplicates\n",
    "modelMajorityClassif_nodup = majority_classification.Baseline_majority()\n",
    "modelMajorityClassif_nodup.model_train(dialogTrain_nodup['label'])\n",
    "predsMajorityClassif_nodup = modelMajorityClassif.model_predict(dialogTest_nodup['label'])\n",
    "resultsMajorityClassif_nodup =  model_eval.model_evaluate(predicted_labels = predsMajorityClassif_nodup, \n",
    "                                                test_labels = dialogTest_nodup['label'])\n",
    "model_results_nodup['majority_classif'] = resultsMajorityClassif_nodup\n"
   ]
  },
  {
   "cell_type": "code",
   "execution_count": 22,
   "metadata": {},
   "outputs": [],
   "source": [
    "dt = m_decision_tree.DecisionTree(dialogTrain['sentence'], dialogTrain['label'])\n",
    "dt_result = dt.predict(dialogTest['sentence'])\n",
    "model_results['decision_tree'] = model_eval.model_evaluate(predicted_labels = dt_result, \n",
    "                                            test_labels = dialogTest[\"label\"])\n",
    "# ML 1 nodup\n",
    "dt_nodup = m_decision_tree.DecisionTree(dialogTrain_nodup['sentence'], dialogTrain_nodup['label'])\n",
    "dt_result_nodup = dt_nodup.predict(dialogTest_nodup['sentence'])\n",
    "model_results_nodup['decision_tree_nodup'] = model_eval.model_evaluate(predicted_labels = dt_result_nodup,\n",
    "                                                                test_labels= dialogTest_nodup['label'])\n"
   ]
  },
  {
   "cell_type": "code",
   "execution_count": 24,
   "metadata": {},
   "outputs": [
    {
     "name": "stdout",
     "output_type": "stream",
     "text": [
      "Epoch 1/10\n",
      "170/170 [==============================] - 4s 16ms/step - loss: 0.6308 - accuracy: 0.8697\n",
      "Epoch 2/10\n",
      "170/170 [==============================] - 2s 14ms/step - loss: 0.0889 - accuracy: 0.9769\n",
      "Epoch 3/10\n",
      "170/170 [==============================] - 3s 17ms/step - loss: 0.0488 - accuracy: 0.9873\n",
      "Epoch 4/10\n",
      "170/170 [==============================] - 2s 13ms/step - loss: 0.0317 - accuracy: 0.9910\n",
      "Epoch 5/10\n",
      "170/170 [==============================] - 5s 32ms/step - loss: 0.0232 - accuracy: 0.9930\n",
      "Epoch 6/10\n",
      "170/170 [==============================] - 2s 12ms/step - loss: 0.0163 - accuracy: 0.9958\n",
      "Epoch 7/10\n",
      "170/170 [==============================] - 1s 9ms/step - loss: 0.0126 - accuracy: 0.9965\n",
      "Epoch 8/10\n",
      "170/170 [==============================] - 1s 8ms/step - loss: 0.0101 - accuracy: 0.9976\n",
      "Epoch 9/10\n",
      "170/170 [==============================] - 2s 14ms/step - loss: 0.0078 - accuracy: 0.9981\n",
      "Epoch 10/10\n",
      "170/170 [==============================] - 4s 23ms/step - loss: 0.0064 - accuracy: 0.9985\n",
      "120/120 [==============================] - 1s 7ms/step\n",
      "Epoch 1/10\n",
      "36/36 [==============================] - 1s 14ms/step - loss: 1.5702 - accuracy: 0.6353\n",
      "Epoch 2/10\n",
      "36/36 [==============================] - 0s 10ms/step - loss: 0.7965 - accuracy: 0.7879\n",
      "Epoch 3/10\n",
      "36/36 [==============================] - 0s 9ms/step - loss: 0.5164 - accuracy: 0.8375\n",
      "Epoch 4/10\n",
      "36/36 [==============================] - 0s 10ms/step - loss: 0.3296 - accuracy: 0.8975\n",
      "Epoch 5/10\n",
      "36/36 [==============================] - 0s 13ms/step - loss: 0.2250 - accuracy: 0.9394\n",
      "Epoch 6/10\n",
      "36/36 [==============================] - 1s 16ms/step - loss: 0.1668 - accuracy: 0.9530\n",
      "Epoch 7/10\n",
      "36/36 [==============================] - 1s 18ms/step - loss: 0.1331 - accuracy: 0.9589\n",
      "Epoch 8/10\n",
      "36/36 [==============================] - 1s 19ms/step - loss: 0.1071 - accuracy: 0.9655\n",
      "Epoch 9/10\n",
      "36/36 [==============================] - 0s 12ms/step - loss: 0.0918 - accuracy: 0.9701\n",
      "Epoch 10/10\n",
      "36/36 [==============================] - 0s 11ms/step - loss: 0.0757 - accuracy: 0.9772\n",
      "26/26 [==============================] - 1s 15ms/step\n"
     ]
    }
   ],
   "source": [
    "ffn = m_feed_forward.FeedForwardNetwork(dialogTrain['sentence'], dialogTrain['label'], epochs=10)\n",
    "ffn_result = ffn.predict(dialogTest['sentence'])\n",
    "model_results['ffn'] = model_eval.model_evaluate(predicted_labels = ffn_result, \n",
    "                                            test_labels = dialogTest[\"label\"])\n",
    "\n",
    "#print(f'ffn result labels: {ffn_result}')\n",
    "# ml2 nodup\n",
    "ffn_nodup = m_feed_forward.FeedForwardNetwork(dialogTrain_nodup['sentence'], dialogTrain_nodup['label'], epochs = 10)\n",
    "ffn_nodup_results = ffn_nodup.predict(dialogTest_nodup['sentence'])\n",
    "model_results_nodup['ffn_nodup'] = model_eval.model_evaluate(predicted_labels = ffn_nodup_results, test_labels=dialogTest_nodup['label'])\n"
   ]
  },
  {
   "cell_type": "code",
   "execution_count": 32,
   "metadata": {},
   "outputs": [
    {
     "name": "stdout",
     "output_type": "stream",
     "text": [
      "{'majority_classif': {'0': {'precision': 0.0, 'recall': 0.0, 'f1-score': 0.0, 'support': 5.0}, '1': {'precision': 0.0, 'recall': 0.0, 'f1-score': 0.0, 'support': 180.0}, '2': {'precision': 0.0, 'recall': 0.0, 'f1-score': 0.0, 'support': 35.0}, '3': {'precision': 0.0, 'recall': 0.0, 'f1-score': 0.0, 'support': 22.0}, '4': {'precision': 0.0, 'recall': 0.0, 'f1-score': 0.0, 'support': 6.0}, '5': {'precision': 0.0, 'recall': 0.0, 'f1-score': 0.0, 'support': 14.0}, '6': {'precision': 0.40041819132253004, 'recall': 1.0, 'f1-score': 0.5718551698394924, 'support': 1532.0}, '7': {'precision': 0.0, 'recall': 0.0, 'f1-score': 0.0, 'support': 69.0}, '8': {'precision': 0.0, 'recall': 0.0, 'f1-score': 0.0, 'support': 232.0}, '9': {'precision': 0.0, 'recall': 0.0, 'f1-score': 0.0, 'support': 3.0}, '10': {'precision': 0.0, 'recall': 0.0, 'f1-score': 0.0, 'support': 279.0}, '11': {'precision': 0.0, 'recall': 0.0, 'f1-score': 0.0, 'support': 1.0}, '12': {'precision': 0.0, 'recall': 0.0, 'f1-score': 0.0, 'support': 972.0}, '13': {'precision': 0.0, 'recall': 0.0, 'f1-score': 0.0, 'support': 2.0}, '14': {'precision': 0.0, 'recall': 0.0, 'f1-score': 0.0, 'support': 474.0}, 'accuracy': 0.40041819132253004, 'macro avg': {'precision': 0.02669454608816867, 'recall': 0.06666666666666667, 'f1-score': 0.03812367798929949, 'support': 3826.0}, 'weighted avg': {'precision': 0.1603347279420063, 'recall': 0.40041819132253004, 'f1-score': 0.2289812128055678, 'support': 3826.0}}, 'decision_tree': {'0': {'precision': 0.75, 'recall': 0.6, 'f1-score': 0.6666666666666665, 'support': 5.0}, '1': {'precision': 0.9944444444444445, 'recall': 0.9944444444444445, 'f1-score': 0.9944444444444445, 'support': 180.0}, '2': {'precision': 0.9722222222222222, 'recall': 1.0, 'f1-score': 0.9859154929577464, 'support': 35.0}, '3': {'precision': 0.8260869565217391, 'recall': 0.8636363636363636, 'f1-score': 0.8444444444444444, 'support': 22.0}, '4': {'precision': 0.75, 'recall': 1.0, 'f1-score': 0.8571428571428571, 'support': 6.0}, '5': {'precision': 1.0, 'recall': 1.0, 'f1-score': 1.0, 'support': 14.0}, '6': {'precision': 0.9842209072978304, 'recall': 0.9771540469973891, 'f1-score': 0.9806747461513265, 'support': 1532.0}, '7': {'precision': 1.0, 'recall': 0.9855072463768116, 'f1-score': 0.9927007299270074, 'support': 69.0}, '8': {'precision': 0.9087136929460581, 'recall': 0.9439655172413793, 'f1-score': 0.9260042283298097, 'support': 232.0}, '9': {'precision': 1.0, 'recall': 0.6666666666666666, 'f1-score': 0.8, 'support': 3.0}, '10': {'precision': 0.9678571428571429, 'recall': 0.9713261648745519, 'f1-score': 0.9695885509838998, 'support': 279.0}, '11': {'precision': 1.0, 'recall': 1.0, 'f1-score': 1.0, 'support': 1.0}, '12': {'precision': 0.9938461538461538, 'recall': 0.9969135802469136, 'f1-score': 0.9953775038520801, 'support': 972.0}, '13': {'precision': 1.0, 'recall': 0.5, 'f1-score': 0.6666666666666666, 'support': 2.0}, '14': {'precision': 1.0, 'recall': 0.9957805907172996, 'f1-score': 0.9978858350951374, 'support': 474.0}, 'accuracy': 0.98170412963931, 'macro avg': {'precision': 0.9431594346757061, 'recall': 0.8996929747467879, 'f1-score': 0.9118341444441391, 'support': 3826.0}, 'weighted avg': {'precision': 0.9820047835756983, 'recall': 0.98170412963931, 'f1-score': 0.9817139078896915, 'support': 3826.0}}, 'ffn': {'0': {'precision': 1.0, 'recall': 0.4, 'f1-score': 0.5714285714285715, 'support': 5.0}, '1': {'precision': 0.9943820224719101, 'recall': 0.9833333333333333, 'f1-score': 0.9888268156424581, 'support': 180.0}, '2': {'precision': 1.0, 'recall': 0.9714285714285714, 'f1-score': 0.9855072463768115, 'support': 35.0}, '3': {'precision': 0.85, 'recall': 0.7727272727272727, 'f1-score': 0.8095238095238095, 'support': 22.0}, '4': {'precision': 1.0, 'recall': 1.0, 'f1-score': 1.0, 'support': 6.0}, '5': {'precision': 1.0, 'recall': 1.0, 'f1-score': 1.0, 'support': 14.0}, '6': {'precision': 0.9953917050691244, 'recall': 0.9869451697127938, 'f1-score': 0.9911504424778762, 'support': 1532.0}, '7': {'precision': 1.0, 'recall': 1.0, 'f1-score': 1.0, 'support': 69.0}, '8': {'precision': 0.9506172839506173, 'recall': 0.9956896551724138, 'f1-score': 0.9726315789473684, 'support': 232.0}, '9': {'precision': 1.0, 'recall': 0.6666666666666666, 'f1-score': 0.8, 'support': 3.0}, '10': {'precision': 0.9577464788732394, 'recall': 0.974910394265233, 'f1-score': 0.9662522202486679, 'support': 279.0}, '11': {'precision': 1.0, 'recall': 1.0, 'f1-score': 1.0, 'support': 1.0}, '12': {'precision': 0.9928352098259979, 'recall': 0.9979423868312757, 'f1-score': 0.9953822473063109, 'support': 972.0}, '13': {'precision': 1.0, 'recall': 1.0, 'f1-score': 1.0, 'support': 2.0}, '14': {'precision': 0.9978947368421053, 'recall': 1.0, 'f1-score': 0.9989462592202318, 'support': 474.0}, 'accuracy': 0.9887611082070047, 'macro avg': {'precision': 0.9825911624688664, 'recall': 0.9166428966758374, 'f1-score': 0.9386432794114739, 'support': 3826.0}, 'weighted avg': {'precision': 0.988871213514649, 'recall': 0.9887611082070047, 'f1-score': 0.9885618640875315, 'support': 3826.0}}}\n"
     ]
    },
    {
     "ename": "ValueError",
     "evalue": "too many values to unpack (expected 2)",
     "output_type": "error",
     "traceback": [
      "\u001b[0;31m---------------------------------------------------------------------------\u001b[0m",
      "\u001b[0;31mValueError\u001b[0m                                Traceback (most recent call last)",
      "\u001b[1;32m/home/robin/uu/mair_chat/MAIR-group12/src/eval.ipynb Cell 7\u001b[0m line \u001b[0;36m1\n\u001b[1;32m      <a href='vscode-notebook-cell://wsl%2Bubuntu/home/robin/uu/mair_chat/MAIR-group12/src/eval.ipynb#W5sdnNjb2RlLXJlbW90ZQ%3D%3D?line=7'>8</a>\u001b[0m \u001b[39mfor\u001b[39;00m measure \u001b[39min\u001b[39;00m measures:\n\u001b[1;32m      <a href='vscode-notebook-cell://wsl%2Bubuntu/home/robin/uu/mair_chat/MAIR-group12/src/eval.ipynb#W5sdnNjb2RlLXJlbW90ZQ%3D%3D?line=8'>9</a>\u001b[0m    \u001b[39mprint\u001b[39m(model_results)\n\u001b[0;32m---> <a href='vscode-notebook-cell://wsl%2Bubuntu/home/robin/uu/mair_chat/MAIR-group12/src/eval.ipynb#W5sdnNjb2RlLXJlbW90ZQ%3D%3D?line=9'>10</a>\u001b[0m    \u001b[39mfor\u001b[39;00m key, value \u001b[39min\u001b[39;00m model_results:\n\u001b[1;32m     <a href='vscode-notebook-cell://wsl%2Bubuntu/home/robin/uu/mair_chat/MAIR-group12/src/eval.ipynb#W5sdnNjb2RlLXJlbW90ZQ%3D%3D?line=10'>11</a>\u001b[0m       \u001b[39mprint\u001b[39m(key, value)\n",
      "\u001b[0;31mValueError\u001b[0m: too many values to unpack (expected 2)"
     ]
    }
   ],
   "source": [
    "import importlib\n",
    "importlib.reload(visualization)\n",
    "\n",
    "measures = [sklearn.metrics.precision_score]\n",
    "   # print(list(model_results.keys()))\n",
    "    \n",
    "# Makes barplot for accuracy of all models\n",
    "for measure in measures:\n",
    "   print(model_results[\"decision_tree\"])\n",
    "   for key, value in model_results.items():\n",
    "      print(key, value)\n",
    "   \n"
   ]
  },
  {
   "cell_type": "code",
   "execution_count": null,
   "metadata": {},
   "outputs": [],
   "source": []
  }
 ],
 "metadata": {
  "kernelspec": {
   "display_name": "uu_mair_chat",
   "language": "python",
   "name": "python3"
  },
  "language_info": {
   "codemirror_mode": {
    "name": "ipython",
    "version": 3
   },
   "file_extension": ".py",
   "mimetype": "text/x-python",
   "name": "python",
   "nbconvert_exporter": "python",
   "pygments_lexer": "ipython3",
   "version": "3.11.5"
  },
  "orig_nbformat": 4
 },
 "nbformat": 4,
 "nbformat_minor": 2
}
